{
 "cells": [
  {
   "cell_type": "markdown",
   "id": "24a7b51a",
   "metadata": {},
   "source": [
    "#  Herculens point sources"
   ]
  },
  {
   "cell_type": "code",
   "execution_count": 1,
   "id": "4def6523",
   "metadata": {},
   "outputs": [],
   "source": [
    "# Plotting\n",
    "%matplotlib inline\n",
    "import matplotlib.pyplot as plt\n",
    "plt.rc('image', interpolation='none')\n",
    "\n",
    "# Basic imports\n",
    "import numpy as np\n",
    "from functools import partial\n",
    "\n",
    "# JAX-related imports\n",
    "import jax\n",
    "import jax.numpy as jnp\n",
    "from jax.config import config\n",
    "config.update(\"jax_enable_x64\", True)\n",
    "\n",
    "# Herculens\n",
    "from herculens.Coordinates.pixel_grid import PixelGrid\n",
    "from herculens.Instrument.psf import PSF\n",
    "from herculens.MassModel.mass_model import MassModel\n",
    "from herculens.LightModel.light_model import LightModel\n",
    "from herculens.PointSourceModel.point_source_model import PointSourceModel\n",
    "from herculens.LensImage.lens_image import LensImage"
   ]
  },
  {
   "cell_type": "markdown",
   "id": "aaab8a23",
   "metadata": {},
   "source": [
    "## Pixel grid"
   ]
  },
  {
   "cell_type": "code",
   "execution_count": 2,
   "id": "6ccea5d1",
   "metadata": {},
   "outputs": [
    {
     "name": "stdout",
     "output_type": "stream",
     "text": [
      "image size : (100, 100) pixels\n",
      "pixel size : 0.05 arcsec\n",
      "x range    : (-2.475, 2.475) arcsec\n",
      "y range    : (-2.475, 2.475) arcsec\n"
     ]
    }
   ],
   "source": [
    "npix = 100  # number of pixels per side\n",
    "pix_size = 5. / npix  # angular pixel size [arcsec]\n",
    "plane_half_size = npix * pix_size / 2.  # half image angular extent per side [arcsec]\n",
    "ra_at_xy_0 = dec_at_xy_0 = -plane_half_size + pix_size / 2  # angular coordinates of the pixel (0, 0)\n",
    "transform_pix2angle = pix_size * np.eye(2)  # transformation matrix between pixel and angle\n",
    "kwargs_pixel = {'nx': npix, 'ny': npix,\n",
    "                'ra_at_xy_0': ra_at_xy_0, 'dec_at_xy_0': dec_at_xy_0,\n",
    "                'transform_pix2angle': transform_pix2angle}\n",
    "\n",
    "# create the PixelGrid class\n",
    "pixel_grid = PixelGrid(**kwargs_pixel)\n",
    "xgrid, ygrid = pixel_grid.pixel_coordinates\n",
    "extent = pixel_grid.extent\n",
    "\n",
    "print(f\"image size : ({npix}, {npix}) pixels\")\n",
    "print(f\"pixel size : {pix_size} arcsec\")\n",
    "print(f\"x range    : {xgrid[0, 0], xgrid[0, -1]} arcsec\")\n",
    "print(f\"y range    : {ygrid[0, 0], ygrid[-1, 0]} arcsec\")"
   ]
  },
  {
   "cell_type": "markdown",
   "id": "5d43b3f5",
   "metadata": {},
   "source": [
    "## Mass model"
   ]
  },
  {
   "cell_type": "code",
   "execution_count": 3,
   "id": "4306c182",
   "metadata": {},
   "outputs": [],
   "source": [
    "mass_model = MassModel(['SIE', 'SHEAR'])\n",
    "kwargs_sie = {'theta_E': 1.4, 'e1': 0.2, 'e2': 0.0, 'center_x': 0, 'center_y': 0}\n",
    "kwargs_shear = {'gamma1': 0.02, 'gamma2': 0.08}\n",
    "kwargs_lens = [kwargs_sie, kwargs_shear]"
   ]
  },
  {
   "cell_type": "markdown",
   "id": "a417da99",
   "metadata": {},
   "source": [
    "## Source light model"
   ]
  },
  {
   "cell_type": "code",
   "execution_count": 4,
   "id": "64927baf",
   "metadata": {},
   "outputs": [],
   "source": [
    "# source_model = LightModel(['GAUSSIAN'])\n",
    "# kwargs_source = [{'amp': 1.0, 'sigma': 0.005, 'center_x': 0.075, 'center_y': -0.05}]\n",
    "source_model = LightModel(['PIXELATED'])\n",
    "pixels = np.zeros((npix, npix))\n",
    "beta_x, beta_y = 0.075, -0.05\n",
    "# beta_x, beta_y = 0.075, -0.15\n",
    "i, j = pixel_grid.map_coord2pix(beta_x, beta_y)\n",
    "pixels[int(j), int(i)] = 1.\n",
    "kwargs_source = [{'pixels': pixels}]"
   ]
  },
  {
   "cell_type": "markdown",
   "id": "441e38ba",
   "metadata": {},
   "source": [
    "## PSF"
   ]
  },
  {
   "cell_type": "code",
   "execution_count": 5,
   "id": "7f2e1633",
   "metadata": {},
   "outputs": [],
   "source": [
    "kwargs_psf = {'psf_type': 'GAUSSIAN', 'fwhm': 0.1}\n",
    "# kwargs_psf = {'psf_type': 'NONE'}\n",
    "psf = PSF(**kwargs_psf)"
   ]
  },
  {
   "cell_type": "markdown",
   "id": "cc609bb8",
   "metadata": {},
   "source": [
    "# Point Source"
   ]
  },
  {
   "cell_type": "code",
   "execution_count": 6,
   "id": "e54a44da",
   "metadata": {},
   "outputs": [],
   "source": [
    "# lensEquationSolver = LensEquationSolver(lens_model_class)\n",
    "# x_image, y_image = lensEquationSolver.findBrightImage(ra_source, dec_source, kwargs_lens, numImages=4,\n",
    "#                                                       min_distance=deltaPix, search_window=numPix * deltaPix)\n",
    "# # compute lensing magnification at image positions\n",
    "# mag = lens_model_class.magnification(x_image, y_image, kwargs=kwargs_lens)\n",
    "# mag = np.abs(mag)  # ignore the sign of the magnification\n",
    "\n",
    "# # perturb observed magnification due to e.g. micro-lensing\n",
    "# mag_pert = np.random.normal(mag, 0.5, len(mag))\n",
    "# point_amp = mag_pert * 100  # multiply by intrinsic quasar brightness (in counts/s)\n",
    "# kwargs_ps = [{'ra_image': x_image, 'dec_image': y_image,\n",
    "#                            'point_amp': point_amp}]  # quasar point source position in the image plane \n",
    "#                                                      # and intrinsic brightness\n",
    "\n",
    "# # note: the relative magnification of point sources is not used as \n",
    "# #       constraints in the fitting in the default settings of lenstronomy.\n",
    "# # you can set this constraint with the keyword 'fixed_magnification_list' (see next block). \n",
    "# # The images are treated otherwise as separate linear amplitudes that are constraint independently of each other.\n",
    "# point_source_list = ['LENSED_POSITION']\n",
    "# point_source = PointSource(point_source_type_list=point_source_list, fixed_magnification_list=[False])\n",
    "\n",
    "# ps_model = PointSourceModel(['IMAGE_POSITIONS', 'SOURCE_POSITION'], mass_model)\n",
    "# kwargs_ps1 = {'ra': 1.5, 'dec': 0.7, 'amp': 1}\n",
    "# # kwargs_ps1 = {'ra': [1.5, 0.8, -0.5], 'dec': [0.7, -1.3, 1.7], 'amp': [1., 1., 1.]}\n",
    "# kwargs_ps2 = {'ra': 0.4, 'dec': 0.9, 'amp': 1.}\n",
    "# kwargs_ps = [kwargs_ps1, kwargs_ps2]\n",
    "# ps_model.source_positions(kwargs_ps, kwargs_lens)\n",
    "\n",
    "\n",
    "point_source_model = PointSourceModel(['IMAGE_POSITIONS'], mass_model)\n",
    "kwargs_point_source = [{'ra': [1.5, 0.8, -0.5], 'dec': [0.7, -1.3, 1.7], 'amp': [1., 2., 4.]}]"
   ]
  },
  {
   "cell_type": "code",
   "execution_count": 7,
   "id": "b1dfeb51",
   "metadata": {},
   "outputs": [],
   "source": [
    "# point_source_model.image_positions(kwargs_point_source)"
   ]
  },
  {
   "cell_type": "code",
   "execution_count": 8,
   "id": "5039cf9d",
   "metadata": {},
   "outputs": [],
   "source": [
    "# point_source_model.source_positions(kwargs_point_source, kwargs_lens)"
   ]
  },
  {
   "cell_type": "code",
   "execution_count": 9,
   "id": "361ff455",
   "metadata": {},
   "outputs": [],
   "source": [
    "# point_source_model.image_amplitudes(kwargs_point_source)"
   ]
  },
  {
   "cell_type": "code",
   "execution_count": 10,
   "id": "5bf3d860",
   "metadata": {},
   "outputs": [],
   "source": [
    "# point_source_model.source_amplitudes(kwargs_point_source, kwargs_lens)"
   ]
  },
  {
   "cell_type": "markdown",
   "id": "c866f7d4",
   "metadata": {},
   "source": [
    "## Image model"
   ]
  },
  {
   "cell_type": "code",
   "execution_count": 18,
   "id": "f047697f",
   "metadata": {},
   "outputs": [
    {
     "data": {
      "image/png": "[encoded data removed]",
      "text/plain": [
       "<Figure size 500x500 with 1 Axes>"
      ]
     },
     "metadata": {},
     "output_type": "display_data"
    }
   ],
   "source": [
    "# Generate a lensed image based on source and lens models\n",
    "kwargs_numerics = {'supersampling_factor': 5}\n",
    "lens_image = LensImage(pixel_grid, psf,\n",
    "                       lens_mass_model_class=mass_model,\n",
    "                       source_model_class=source_model,\n",
    "                       point_source_model_class=point_source_model,\n",
    "                       kwargs_numerics=kwargs_numerics)\n",
    "\n",
    "kwargs_all = dict(kwargs_lens=kwargs_lens,\n",
    "                  kwargs_source=kwargs_source,\n",
    "                  kwargs_lens_light={},\n",
    "                  kwargs_point_source=kwargs_point_source)\n",
    "\n",
    "image = lens_image.model(**kwargs_all, source_add=False)\n",
    "image += 0.01\n",
    "log_image = np.log(image)\n",
    "\n",
    "# visualize simulated products\n",
    "fig, ax = plt.subplots(1, 1, figsize=(5, 5))\n",
    "ax.imshow(log_image, origin='lower', extent=pixel_grid.extent)\n",
    "ax.set_aspect('equal')\n",
    "ax.set_title('Lensed \"point source\"', fontsize=16)\n",
    "ax.set_xlabel('RA [arcsec]', fontsize=16)\n",
    "ax.set_ylabel('Dec [arcsec]', fontsize=16);\n",
    "# plt.savefig('/Users/austinpeel/Desktop/lensed_pt_src.png', format='png')"
   ]
  },
  {
   "cell_type": "code",
   "execution_count": null,
   "id": "32646112",
   "metadata": {},
   "outputs": [],
   "source": []
  },
  {
   "cell_type": "code",
   "execution_count": 8,
   "id": "839e4e5a",
   "metadata": {},
   "outputs": [
    {
     "ename": "TracerArrayConversionError",
     "evalue": "The numpy.ndarray conversion method __array__() was called on the JAX Tracer object Traced<ShapedArray(float64[11,11])>with<DynamicJaxprTrace(level=0/1)>\nThis Tracer was created on line /Users/austinpeel/Software/StrongLensing/herculens/herculens/Util/util.py:56 (array2image)\nSee https://jax.readthedocs.io/en/latest/errors.html#jax.errors.TracerArrayConversionError",
     "output_type": "error",
     "traceback": [
      "\u001b[0;31m---------------------------------------------------------------------------\u001b[0m",
      "\u001b[0;31mTracerArrayConversionError\u001b[0m                Traceback (most recent call last)",
      "\u001b[0;32m/var/folders/1y/dmvst4955rb_mvcblqk3dm500000gn/T/ipykernel_82342/1959931816.py\u001b[0m in \u001b[0;36m<module>\u001b[0;34m\u001b[0m\n\u001b[1;32m      2\u001b[0m \u001b[0mpsf_kernel\u001b[0m \u001b[0;34m=\u001b[0m \u001b[0mlens_image\u001b[0m\u001b[0;34m.\u001b[0m\u001b[0mImageNumerics\u001b[0m\u001b[0;34m.\u001b[0m\u001b[0m_psf\u001b[0m\u001b[0;34m.\u001b[0m\u001b[0mkernel_point_source\u001b[0m\u001b[0;34m\u001b[0m\u001b[0;34m\u001b[0m\u001b[0m\n\u001b[1;32m      3\u001b[0m \u001b[0;31m# img = lens_image.ImageNumerics._psf.kernel_point_source_supersampled(1)\u001b[0m\u001b[0;34m\u001b[0m\u001b[0;34m\u001b[0m\u001b[0;34m\u001b[0m\u001b[0m\n\u001b[0;32m----> 4\u001b[0;31m \u001b[0max\u001b[0m\u001b[0;34m.\u001b[0m\u001b[0mimshow\u001b[0m\u001b[0;34m(\u001b[0m\u001b[0mpsf_kernel\u001b[0m\u001b[0;34m,\u001b[0m \u001b[0morigin\u001b[0m\u001b[0;34m=\u001b[0m\u001b[0;34m'lower'\u001b[0m\u001b[0;34m)\u001b[0m\u001b[0;34m\u001b[0m\u001b[0;34m\u001b[0m\u001b[0m\n\u001b[0m",
      "\u001b[0;32m~/miniconda3/envs/herculens/lib/python3.7/site-packages/matplotlib/_api/deprecation.py\u001b[0m in \u001b[0;36mwrapper\u001b[0;34m(*args, **kwargs)\u001b[0m\n\u001b[1;32m    457\u001b[0m                 \u001b[0;34m\"parameter will become keyword-only %(removal)s.\"\u001b[0m\u001b[0;34m,\u001b[0m\u001b[0;34m\u001b[0m\u001b[0;34m\u001b[0m\u001b[0m\n\u001b[1;32m    458\u001b[0m                 name=name, obj_type=f\"parameter of {func.__name__}()\")\n\u001b[0;32m--> 459\u001b[0;31m         \u001b[0;32mreturn\u001b[0m \u001b[0mfunc\u001b[0m\u001b[0;34m(\u001b[0m\u001b[0;34m*\u001b[0m\u001b[0margs\u001b[0m\u001b[0;34m,\u001b[0m \u001b[0;34m**\u001b[0m\u001b[0mkwargs\u001b[0m\u001b[0;34m)\u001b[0m\u001b[0;34m\u001b[0m\u001b[0;34m\u001b[0m\u001b[0m\n\u001b[0m\u001b[1;32m    460\u001b[0m \u001b[0;34m\u001b[0m\u001b[0m\n\u001b[1;32m    461\u001b[0m     \u001b[0;31m# Don't modify *func*'s signature, as boilerplate.py needs it.\u001b[0m\u001b[0;34m\u001b[0m\u001b[0;34m\u001b[0m\u001b[0;34m\u001b[0m\u001b[0m\n",
      "\u001b[0;32m~/miniconda3/envs/herculens/lib/python3.7/site-packages/matplotlib/__init__.py\u001b[0m in \u001b[0;36minner\u001b[0;34m(ax, data, *args, **kwargs)\u001b[0m\n\u001b[1;32m   1412\u001b[0m     \u001b[0;32mdef\u001b[0m \u001b[0minner\u001b[0m\u001b[0;34m(\u001b[0m\u001b[0max\u001b[0m\u001b[0;34m,\u001b[0m \u001b[0;34m*\u001b[0m\u001b[0margs\u001b[0m\u001b[0;34m,\u001b[0m \u001b[0mdata\u001b[0m\u001b[0;34m=\u001b[0m\u001b[0;32mNone\u001b[0m\u001b[0;34m,\u001b[0m \u001b[0;34m**\u001b[0m\u001b[0mkwargs\u001b[0m\u001b[0;34m)\u001b[0m\u001b[0;34m:\u001b[0m\u001b[0;34m\u001b[0m\u001b[0;34m\u001b[0m\u001b[0m\n\u001b[1;32m   1413\u001b[0m         \u001b[0;32mif\u001b[0m \u001b[0mdata\u001b[0m \u001b[0;32mis\u001b[0m \u001b[0;32mNone\u001b[0m\u001b[0;34m:\u001b[0m\u001b[0;34m\u001b[0m\u001b[0;34m\u001b[0m\u001b[0m\n\u001b[0;32m-> 1414\u001b[0;31m             \u001b[0;32mreturn\u001b[0m \u001b[0mfunc\u001b[0m\u001b[0;34m(\u001b[0m\u001b[0max\u001b[0m\u001b[0;34m,\u001b[0m \u001b[0;34m*\u001b[0m\u001b[0mmap\u001b[0m\u001b[0;34m(\u001b[0m\u001b[0msanitize_sequence\u001b[0m\u001b[0;34m,\u001b[0m \u001b[0margs\u001b[0m\u001b[0;34m)\u001b[0m\u001b[0;34m,\u001b[0m \u001b[0;34m**\u001b[0m\u001b[0mkwargs\u001b[0m\u001b[0;34m)\u001b[0m\u001b[0;34m\u001b[0m\u001b[0;34m\u001b[0m\u001b[0m\n\u001b[0m\u001b[1;32m   1415\u001b[0m \u001b[0;34m\u001b[0m\u001b[0m\n\u001b[1;32m   1416\u001b[0m         \u001b[0mbound\u001b[0m \u001b[0;34m=\u001b[0m \u001b[0mnew_sig\u001b[0m\u001b[0;34m.\u001b[0m\u001b[0mbind\u001b[0m\u001b[0;34m(\u001b[0m\u001b[0max\u001b[0m\u001b[0;34m,\u001b[0m \u001b[0;34m*\u001b[0m\u001b[0margs\u001b[0m\u001b[0;34m,\u001b[0m \u001b[0;34m**\u001b[0m\u001b[0mkwargs\u001b[0m\u001b[0;34m)\u001b[0m\u001b[0;34m\u001b[0m\u001b[0;34m\u001b[0m\u001b[0m\n",
      "\u001b[0;32m~/miniconda3/envs/herculens/lib/python3.7/site-packages/matplotlib/axes/_axes.py\u001b[0m in \u001b[0;36mimshow\u001b[0;34m(self, X, cmap, norm, aspect, interpolation, alpha, vmin, vmax, origin, extent, interpolation_stage, filternorm, filterrad, resample, url, **kwargs)\u001b[0m\n\u001b[1;32m   5485\u001b[0m                               **kwargs)\n\u001b[1;32m   5486\u001b[0m \u001b[0;34m\u001b[0m\u001b[0m\n\u001b[0;32m-> 5487\u001b[0;31m         \u001b[0mim\u001b[0m\u001b[0;34m.\u001b[0m\u001b[0mset_data\u001b[0m\u001b[0;34m(\u001b[0m\u001b[0mX\u001b[0m\u001b[0;34m)\u001b[0m\u001b[0;34m\u001b[0m\u001b[0;34m\u001b[0m\u001b[0m\n\u001b[0m\u001b[1;32m   5488\u001b[0m         \u001b[0mim\u001b[0m\u001b[0;34m.\u001b[0m\u001b[0mset_alpha\u001b[0m\u001b[0;34m(\u001b[0m\u001b[0malpha\u001b[0m\u001b[0;34m)\u001b[0m\u001b[0;34m\u001b[0m\u001b[0;34m\u001b[0m\u001b[0m\n\u001b[1;32m   5489\u001b[0m         \u001b[0;32mif\u001b[0m \u001b[0mim\u001b[0m\u001b[0;34m.\u001b[0m\u001b[0mget_clip_path\u001b[0m\u001b[0;34m(\u001b[0m\u001b[0;34m)\u001b[0m \u001b[0;32mis\u001b[0m \u001b[0;32mNone\u001b[0m\u001b[0;34m:\u001b[0m\u001b[0;34m\u001b[0m\u001b[0;34m\u001b[0m\u001b[0m\n",
      "\u001b[0;32m~/miniconda3/envs/herculens/lib/python3.7/site-packages/matplotlib/image.py\u001b[0m in \u001b[0;36mset_data\u001b[0;34m(self, A)\u001b[0m\n\u001b[1;32m    700\u001b[0m         \u001b[0;32mif\u001b[0m \u001b[0misinstance\u001b[0m\u001b[0;34m(\u001b[0m\u001b[0mA\u001b[0m\u001b[0;34m,\u001b[0m \u001b[0mPIL\u001b[0m\u001b[0;34m.\u001b[0m\u001b[0mImage\u001b[0m\u001b[0;34m.\u001b[0m\u001b[0mImage\u001b[0m\u001b[0;34m)\u001b[0m\u001b[0;34m:\u001b[0m\u001b[0;34m\u001b[0m\u001b[0;34m\u001b[0m\u001b[0m\n\u001b[1;32m    701\u001b[0m             \u001b[0mA\u001b[0m \u001b[0;34m=\u001b[0m \u001b[0mpil_to_array\u001b[0m\u001b[0;34m(\u001b[0m\u001b[0mA\u001b[0m\u001b[0;34m)\u001b[0m  \u001b[0;31m# Needed e.g. to apply png palette.\u001b[0m\u001b[0;34m\u001b[0m\u001b[0;34m\u001b[0m\u001b[0m\n\u001b[0;32m--> 702\u001b[0;31m         \u001b[0mself\u001b[0m\u001b[0;34m.\u001b[0m\u001b[0m_A\u001b[0m \u001b[0;34m=\u001b[0m \u001b[0mcbook\u001b[0m\u001b[0;34m.\u001b[0m\u001b[0msafe_masked_invalid\u001b[0m\u001b[0;34m(\u001b[0m\u001b[0mA\u001b[0m\u001b[0;34m,\u001b[0m \u001b[0mcopy\u001b[0m\u001b[0;34m=\u001b[0m\u001b[0;32mTrue\u001b[0m\u001b[0;34m)\u001b[0m\u001b[0;34m\u001b[0m\u001b[0;34m\u001b[0m\u001b[0m\n\u001b[0m\u001b[1;32m    703\u001b[0m \u001b[0;34m\u001b[0m\u001b[0m\n\u001b[1;32m    704\u001b[0m         if (self._A.dtype != np.uint8 and\n",
      "\u001b[0;32m~/miniconda3/envs/herculens/lib/python3.7/site-packages/matplotlib/cbook/__init__.py\u001b[0m in \u001b[0;36msafe_masked_invalid\u001b[0;34m(x, copy)\u001b[0m\n\u001b[1;32m    699\u001b[0m \u001b[0;34m\u001b[0m\u001b[0m\n\u001b[1;32m    700\u001b[0m \u001b[0;32mdef\u001b[0m \u001b[0msafe_masked_invalid\u001b[0m\u001b[0;34m(\u001b[0m\u001b[0mx\u001b[0m\u001b[0;34m,\u001b[0m \u001b[0mcopy\u001b[0m\u001b[0;34m=\u001b[0m\u001b[0;32mFalse\u001b[0m\u001b[0;34m)\u001b[0m\u001b[0;34m:\u001b[0m\u001b[0;34m\u001b[0m\u001b[0;34m\u001b[0m\u001b[0m\n\u001b[0;32m--> 701\u001b[0;31m     \u001b[0mx\u001b[0m \u001b[0;34m=\u001b[0m \u001b[0mnp\u001b[0m\u001b[0;34m.\u001b[0m\u001b[0marray\u001b[0m\u001b[0;34m(\u001b[0m\u001b[0mx\u001b[0m\u001b[0;34m,\u001b[0m \u001b[0msubok\u001b[0m\u001b[0;34m=\u001b[0m\u001b[0;32mTrue\u001b[0m\u001b[0;34m,\u001b[0m \u001b[0mcopy\u001b[0m\u001b[0;34m=\u001b[0m\u001b[0mcopy\u001b[0m\u001b[0;34m)\u001b[0m\u001b[0;34m\u001b[0m\u001b[0;34m\u001b[0m\u001b[0m\n\u001b[0m\u001b[1;32m    702\u001b[0m     \u001b[0;32mif\u001b[0m \u001b[0;32mnot\u001b[0m \u001b[0mx\u001b[0m\u001b[0;34m.\u001b[0m\u001b[0mdtype\u001b[0m\u001b[0;34m.\u001b[0m\u001b[0misnative\u001b[0m\u001b[0;34m:\u001b[0m\u001b[0;34m\u001b[0m\u001b[0;34m\u001b[0m\u001b[0m\n\u001b[1;32m    703\u001b[0m         \u001b[0;31m# If we have already made a copy, do the byteswap in place, else make a\u001b[0m\u001b[0;34m\u001b[0m\u001b[0;34m\u001b[0m\u001b[0;34m\u001b[0m\u001b[0m\n",
      "\u001b[0;32m~/miniconda3/envs/herculens/lib/python3.7/site-packages/jax/core.py\u001b[0m in \u001b[0;36m__array__\u001b[0;34m(self, *args, **kw)\u001b[0m\n\u001b[1;32m    532\u001b[0m \u001b[0;34m\u001b[0m\u001b[0m\n\u001b[1;32m    533\u001b[0m   \u001b[0;32mdef\u001b[0m \u001b[0m__array__\u001b[0m\u001b[0;34m(\u001b[0m\u001b[0mself\u001b[0m\u001b[0;34m,\u001b[0m \u001b[0;34m*\u001b[0m\u001b[0margs\u001b[0m\u001b[0;34m,\u001b[0m \u001b[0;34m**\u001b[0m\u001b[0mkw\u001b[0m\u001b[0;34m)\u001b[0m\u001b[0;34m:\u001b[0m\u001b[0;34m\u001b[0m\u001b[0;34m\u001b[0m\u001b[0m\n\u001b[0;32m--> 534\u001b[0;31m     \u001b[0;32mraise\u001b[0m \u001b[0mTracerArrayConversionError\u001b[0m\u001b[0;34m(\u001b[0m\u001b[0mself\u001b[0m\u001b[0;34m)\u001b[0m\u001b[0;34m\u001b[0m\u001b[0;34m\u001b[0m\u001b[0m\n\u001b[0m\u001b[1;32m    535\u001b[0m \u001b[0;34m\u001b[0m\u001b[0m\n\u001b[1;32m    536\u001b[0m   \u001b[0;32mdef\u001b[0m \u001b[0m__dlpack__\u001b[0m\u001b[0;34m(\u001b[0m\u001b[0mself\u001b[0m\u001b[0;34m,\u001b[0m \u001b[0;34m*\u001b[0m\u001b[0margs\u001b[0m\u001b[0;34m,\u001b[0m \u001b[0;34m**\u001b[0m\u001b[0mkw\u001b[0m\u001b[0;34m)\u001b[0m\u001b[0;34m:\u001b[0m\u001b[0;34m\u001b[0m\u001b[0;34m\u001b[0m\u001b[0m\n",
      "\u001b[0;31mTracerArrayConversionError\u001b[0m: The numpy.ndarray conversion method __array__() was called on the JAX Tracer object Traced<ShapedArray(float64[11,11])>with<DynamicJaxprTrace(level=0/1)>\nThis Tracer was created on line /Users/austinpeel/Software/StrongLensing/herculens/herculens/Util/util.py:56 (array2image)\nSee https://jax.readthedocs.io/en/latest/errors.html#jax.errors.TracerArrayConversionError"
     ]
    },
    {
     "data": {
      "image/png": "[encoded data removed]",
      "text/plain": [
       "<Figure size 640x480 with 1 Axes>"
      ]
     },
     "metadata": {},
     "output_type": "display_data"
    }
   ],
   "source": [
    "fig, ax = plt.subplots(1, 1)\n",
    "psf_kernel = lens_image.ImageNumerics._psf.kernel_point_source\n",
    "# img = lens_image.ImageNumerics._psf.kernel_point_source_supersampled(1)\n",
    "ax.imshow(psf_kernel, origin='lower')"
   ]
  },
  {
   "cell_type": "code",
   "execution_count": 87,
   "id": "b97c2b41",
   "metadata": {},
   "outputs": [
    {
     "data": {
      "text/plain": [
       "(0.05, (11, 11))"
      ]
     },
     "execution_count": 87,
     "metadata": {},
     "output_type": "execute_result"
    }
   ],
   "source": [
    "psf._pixel_size, psf.kernel_point_source.shape"
   ]
  },
  {
   "cell_type": "code",
   "execution_count": null,
   "id": "96951f9c",
   "metadata": {},
   "outputs": [],
   "source": [
    "lens_image.ImageNumerics._psf._"
   ]
  },
  {
   "cell_type": "code",
   "execution_count": 171,
   "id": "fda79829",
   "metadata": {},
   "outputs": [],
   "source": [
    "from herculens.Util.jax_util import BilinearInterpolator, BicubicInterpolator"
   ]
  },
  {
   "cell_type": "code",
   "execution_count": 292,
   "id": "bdfa1158",
   "metadata": {},
   "outputs": [],
   "source": [
    "# x0, y0 = 1.732, 0.436\n",
    "x0, y0 = 3 * delta, 5 * delta"
   ]
  },
  {
   "cell_type": "code",
   "execution_count": 293,
   "id": "918e212f",
   "metadata": {},
   "outputs": [],
   "source": [
    "delta = psf._pixel_size\n",
    "nx, ny = psf.kernel_point_source.shape\n",
    "xmin, xmax = -0.5 * nx * delta, 0.5 * nx * delta\n",
    "ymin, ymax = -0.5 * ny * delta, 0.5 * ny * delta"
   ]
  },
  {
   "cell_type": "code",
   "execution_count": 294,
   "id": "a16f4692",
   "metadata": {},
   "outputs": [],
   "source": [
    "xx = jnp.linspace(xmin, xmax, nx) + x0\n",
    "yy = jnp.linspace(ymin, ymax, ny) + y0\n",
    "x_kernel, y_kernel = jnp.meshgrid(xx, yy)"
   ]
  },
  {
   "cell_type": "code",
   "execution_count": 295,
   "id": "f1252fc1",
   "metadata": {},
   "outputs": [],
   "source": [
    "interp = BilinearInterpolator(xx, yy, psf.kernel_point_source, allow_extrapolation=False)\n",
    "# interp = BicubicInterpolator(xx, yy, psf.kernel_point_source, allow_extrapolation=False)"
   ]
  },
  {
   "cell_type": "code",
   "execution_count": 296,
   "id": "6c0f6372",
   "metadata": {},
   "outputs": [
    {
     "name": "stdout",
     "output_type": "stream",
     "text": [
      "1.190082629356805\n"
     ]
    }
   ],
   "source": [
    "x_coords, y_coords = pixel_grid.pixel_coordinates\n",
    "ps_img = interp(x_coords, y_coords)\n",
    "print(ps_img.sum())\n",
    "ps_img /= ps_img.sum()"
   ]
  },
  {
   "cell_type": "code",
   "execution_count": 297,
   "id": "8bf37e50",
   "metadata": {},
   "outputs": [
    {
     "data": {
      "text/plain": [
       "<matplotlib.image.AxesImage at 0x7fc097511ad0>"
      ]
     },
     "execution_count": 297,
     "metadata": {},
     "output_type": "execute_result"
    },
    {
     "data": {
      "image/png": "[encoded data removed]",
      "text/plain": [
       "<Figure size 640x480 with 1 Axes>"
      ]
     },
     "metadata": {},
     "output_type": "display_data"
    }
   ],
   "source": [
    "fig, ax = plt.subplots(1, 1)\n",
    "ax.imshow(ps_img[40:60, 40:60], origin='lower')"
   ]
  },
  {
   "cell_type": "code",
   "execution_count": 24,
   "id": "55991871",
   "metadata": {},
   "outputs": [
    {
     "name": "stdout",
     "output_type": "stream",
     "text": [
      "(201, 201)\n"
     ]
    },
    {
     "data": {
      "image/png": "[encoded data removed]",
      "text/plain": [
       "<Figure size 640x480 with 1 Axes>"
      ]
     },
     "metadata": {},
     "output_type": "display_data"
    }
   ],
   "source": [
    "fig, ax = plt.subplots(1, 1)\n",
    "img = lens_image.ImageNumerics._psf.kernel_point_source_supersampled(2)\n",
    "ax.imshow(img)\n",
    "print(img.shape)"
   ]
  }
 ],
 "metadata": {
  "kernelspec": {
   "display_name": "Python 3 (ipykernel)",
   "language": "python",
   "name": "python3"
  },
  "language_info": {
   "codemirror_mode": {
    "name": "ipython",
    "version": 3
   },
   "file_extension": ".py",
   "mimetype": "text/x-python",
   "name": "python",
   "nbconvert_exporter": "python",
   "pygments_lexer": "ipython3",
   "version": "3.7.13"
  }
 },
 "nbformat": 4,
 "nbformat_minor": 5
}
